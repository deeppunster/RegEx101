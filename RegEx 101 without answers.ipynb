{
 "cells": [
  {
   "cell_type": "code",
   "execution_count": null,
   "metadata": {
    "collapsed": true
   },
   "outputs": [],
   "source": [
    "\"\"\"\n",
    "Exercise 1, p. 151 - Using \\d to find digits.\n",
    "\"\"\"\n",
    "import re\n",
    "PhoneNumRegex = re.compile(r'\\d\\d\\d-\\d\\d\\d-\\d\\d\\d\\d')\n",
    "mo = PhoneNumRegex.search('My phone number is 415-555-1212')\n",
    "print('Phone number found: ' + mo.group())"
   ]
  },
  {
   "cell_type": "code",
   "execution_count": null,
   "metadata": {},
   "outputs": [],
   "source": [
    ""
   ]
  },
  {
   "cell_type": "code",
   "execution_count": null,
   "metadata": {},
   "outputs": [],
   "source": [
    "\"\"\"\n",
    "Exercise 2 - p. 152 - Grouping with parentheses.\n",
    "\"\"\"\n",
    "import re\n",
    "PhoneNumRegex = re.compile(r'(\\d\\d\\d)-(\\d\\d\\d-\\d\\d\\d\\d)')\n",
    "mo = PhoneNumRegex.search('My phone number is 415-555-1212')\n",
    "print(mo.group(1))\n",
    "print(mo.group(2))\n",
    "print(mo.group(0))\n",
    "print(mo.groups())\n",
    "areaCode, mainNumber = mo.groups()\n",
    "print (areaCode)\n",
    "print (mainNumber)"
   ]
  },
  {
   "cell_type": "code",
   "execution_count": null,
   "metadata": {},
   "outputs": [],
   "source": [
    ""
   ]
  },
  {
   "cell_type": "code",
   "execution_count": null,
   "metadata": {},
   "outputs": [],
   "source": [
    "\"\"\"\n",
    "Exercise 3 - p 153 - Escaping parentheses.\n",
    "\"\"\"\n",
    "import re\n",
    "PhoneNumRegex = re.compile(r'(\\(\\d\\d\\d\\)) (\\d\\d\\d-\\d\\d\\d\\d)')\n",
    "mo = PhoneNumRegex.search('My phone number is (415) 555-1212')\n",
    "print(mo.group(1))\n",
    "print(mo.group(2))"
   ]
  },
  {
   "cell_type": "code",
   "execution_count": null,
   "metadata": {},
   "outputs": [],
   "source": [
    ""
   ]
  },
  {
   "cell_type": "code",
   "execution_count": null,
   "metadata": {},
   "outputs": [],
   "source": [
    "\"\"\"\n",
    "Exercise 4 - p. 153 - Matching multiple groups with the pipe.\n",
    "\"\"\"\n",
    "import re\n",
    "heroRegex = re.compile(r'Batman|Tina Fey')\n",
    "mo1 = heroRegex.search('Batman and Tina Fey.')\n",
    "print(mo1.group())\n",
    "mo2 = heroRegex.search('Tina Fey and Batman.')\n",
    "print(mo2.group())"
   ]
  },
  {
   "cell_type": "code",
   "execution_count": null,
   "metadata": {},
   "outputs": [],
   "source": [
    ""
   ]
  },
  {
   "cell_type": "code",
   "execution_count": null,
   "metadata": {},
   "outputs": [],
   "source": [
    "\"\"\"\n",
    "Exercise 5 - p. 154 - The pipe and grouping.\n",
    "\"\"\"\n",
    "import re\n",
    "batRegex = re.compile(r'Bat(man|mobile|copter|bat)')\n",
    "mo = batRegex.search('Batmobile lost a wheel')\n",
    "print(mo.group())\n",
    "print(mo.group(1))"
   ]
  },
  {
   "cell_type": "code",
   "execution_count": null,
   "metadata": {},
   "outputs": [],
   "source": [
    ""
   ]
  },
  {
   "cell_type": "code",
   "execution_count": null,
   "metadata": {},
   "outputs": [],
   "source": [
    "\"\"\"\n",
    "Exercise 6 - p. 154 - Optional matching with the question mark.\n",
    "\"\"\"\n",
    "import re\n",
    "batRegex = re.compile(r'Bat(wo)?man')\n",
    "mo1 = batRegex.search('The Adventures of Batman')\n",
    "print(mo1.group())\n",
    "mo2 = batRegex.search('The Adventures of Batwoman')\n",
    "print(mo2.group())\n",
    "PhoneNumRegex = re.compile(r'(\\d\\d\\d-)?\\d\\d\\d-\\d\\d\\d\\d')\n",
    "mo3 = PhoneNumRegex.search('My phone number is 415-555-1212')\n",
    "print(mo3.group())\n",
    "mo4 = PhoneNumRegex.search('My phone number is 555-1212')\n",
    "print(mo4.group())"
   ]
  },
  {
   "cell_type": "code",
   "execution_count": null,
   "metadata": {},
   "outputs": [],
   "source": [
    ""
   ]
  },
  {
   "cell_type": "code",
   "execution_count": null,
   "metadata": {},
   "outputs": [],
   "source": [
    "\"\"\"\n",
    "Exercise 7 - p. 155 - Matching zero or more with the star.\n",
    "\"\"\"\n",
    "import re\n",
    "batRegex = re.compile(r'Bat(wo)*man')\n",
    "mo1 = batRegex.search('The Adventures of Batman')\n",
    "print(mo1.group())\n",
    "mo2 = batRegex.search('The Adventures of Batwoman')\n",
    "print(mo2.group())\n",
    "mo3 = batRegex.search('The Adventures of Batwowowowowoman')\n",
    "print(mo3.group())"
   ]
  },
  {
   "cell_type": "code",
   "execution_count": null,
   "metadata": {},
   "outputs": [],
   "source": [
    ""
   ]
  },
  {
   "cell_type": "code",
   "execution_count": null,
   "metadata": {},
   "outputs": [],
   "source": [
    "\"\"\"\n",
    "Exercise 8 - p. 155 - Matching one or more with the plus.\n",
    "\"\"\"\n",
    "import re\n",
    "batRegex = re.compile(r'Bat(wo)+man')\n",
    "mo1 = batRegex.search('The Adventures of Batwoman')\n",
    "print(mo1.group())\n",
    "mo2 = batRegex.search('The Adventures of Batwowowowowoman')\n",
    "print(mo2.group())\n",
    "mo3 = batRegex.search('The Adventures of Batman')\n",
    "print(mo3 == None)"
   ]
  },
  {
   "cell_type": "code",
   "execution_count": null,
   "metadata": {},
   "outputs": [],
   "source": [
    ""
   ]
  },
  {
   "cell_type": "code",
   "execution_count": null,
   "metadata": {},
   "outputs": [],
   "source": [
    "\"\"\"\n",
    "Exercise 9 - p. 156 - Matching specific repetitions with curly\n",
    "brackets.\n",
    "\"\"\"\n",
    "import re\n",
    "haRegex = re.compile(r'(Ha){3}')\n",
    "mo1 = haRegex.search('HaHaHa')\n",
    "print(mo1.group())\n",
    "mo2 = haRegex.search('Ha')\n",
    "print(mo2 == None)"
   ]
  },
  {
   "cell_type": "code",
   "execution_count": null,
   "metadata": {},
   "outputs": [],
   "source": [
    ""
   ]
  },
  {
   "cell_type": "code",
   "execution_count": null,
   "metadata": {},
   "outputs": [],
   "source": [
    "\"\"\"\n",
    "Exercise 10 - p. 156-157 - Greedy and nongreedy matching\n",
    "brackets.\n",
    "\"\"\"\n",
    "import re\n",
    "greedyhaRegex = re.compile(r'(Ha){3,5}')\n",
    "mo1 = greedyhaRegex.search('HaHaHaHaHa')\n",
    "print(mo1.group())\n",
    "\n",
    "nonGreedyhaRegex = re.compile(r'(Ha){3,5}?')\n",
    "mo2 = nonGreedyhaRegex.search('HaHaHaHaHa')\n",
    "print(mo2.group())"
   ]
  },
  {
   "cell_type": "code",
   "execution_count": null,
   "metadata": {},
   "outputs": [],
   "source": [
    ""
   ]
  },
  {
   "cell_type": "code",
   "execution_count": null,
   "metadata": {},
   "outputs": [],
   "source": [
    "\"\"\"\n",
    "Exercise 11 - p. 157 - Findall method.\n",
    "\"\"\"\n",
    "import re\n",
    "# search results\n",
    "PhoneNumRegex = re.compile(r'\\d\\d\\d-\\d\\d\\d-\\d\\d\\d\\d')\n",
    "mo1 = PhoneNumRegex.search('Cell: 415-555-9999 Work: 415-555-0000')\n",
    "print(mo1.group())\n",
    "\n",
    "# findall results (no groups defined)\n",
    "PhoneNumRegex = re.compile(r'\\d\\d\\d-\\d\\d\\d-\\d\\d\\d\\d') # has no groups\n",
    "mo2 = PhoneNumRegex.findall('Cell: 415-555-9999 Work: 415-555-0000')\n",
    "print(mo2)      # returns list of strings with no groups\n",
    "\n",
    "# findall results (groups defined)\n",
    "PhoneNumRegex = re.compile(r'(\\d\\d\\d)-(\\d\\d\\d)-(\\d\\d\\d\\d)')  # groups\n",
    "mo3 = PhoneNumRegex.findall('Cell: 415-555-9999 Work: 415-555-0000')\n",
    "print(mo3)      # returns list of tuples when groups are defined"
   ]
  },
  {
   "cell_type": "code",
   "execution_count": null,
   "metadata": {},
   "outputs": [],
   "source": [
    ""
   ]
  },
  {
   "cell_type": "code",
   "execution_count": null,
   "metadata": {},
   "outputs": [],
   "source": [
    "\"\"\"\n",
    "Exercise 12 - p. 158 - Character classes - predefined shorthand.\n",
    "\n",
    "=========================  ===========================================\n",
    "Shorthand character class  Represents\n",
    "=========================  ===========================================\n",
    "\\d                         Any numeric digit from 0 to 9.\n",
    "\\0                         Any character that is not a numeric digit\n",
    "                           from 0 to 9\n",
    "\\w                         Any letter, numeric digit, or the underscore\n",
    "                           character.  (Think of this as matching\n",
    "                           \"word\" characters.)\n",
    "\\W                         Any character that is not a letter,\n",
    "                           numeric digit, or the underscore character.\n",
    "\\s                         Any space, tab, or newline character.  (\n",
    "                           Think of this as matching white-space\n",
    "                           characters.)\n",
    "\\S                         Any character that is not a space, tab,\n",
    "                           or newline.\n",
    "=========================  ===========================================\n",
    ":return:\n",
    "\"\"\"\n",
    "xmasRegex = re.compile(r'\\d+\\s\\w+')\n",
    "import re\n",
    "mo = xmasRegex.findall(('12 drummers, 11 pipers, 10 lords, 9 ladies, '\n",
    "                        '8 maids, 7 swans, 6 geese, 5 rings, '\n",
    "                        '4 hummingbirds, 3 hens, 2 turtledoves, '\n",
    "                        '1 partridge'))\n",
    "print(mo)"
   ]
  },
  {
   "cell_type": "code",
   "execution_count": null,
   "metadata": {},
   "outputs": [],
   "source": [
    ""
   ]
  },
  {
   "cell_type": "code",
   "execution_count": null,
   "metadata": {},
   "outputs": [],
   "source": [
    "\"\"\"\n",
    "Exercise 13 - p. 159 - Making your own character classes.\n",
    ":return:\n",
    "\"\"\"\n",
    "import re\n",
    "# all vowels\n",
    "vowelRegex = re.compile(r'[aeiouAEIOU]')\n",
    "mo1 = vowelRegex.findall('Robocop eats baby food.  BABY FOOD.')\n",
    "print(mo1)\n",
    "\n",
    "# all non-vowels (exclude charactes)\n",
    "consonantRegex = re.compile(r'[^aeiouAEIOU]')\n",
    "mo2 = consonantRegex.findall('Robocop eats baby food.  BABY FOOD.')\n",
    "print(mo2)"
   ]
  },
  {
   "cell_type": "code",
   "execution_count": null,
   "metadata": {},
   "outputs": [],
   "source": [
    ""
   ]
  },
  {
   "cell_type": "code",
   "execution_count": null,
   "metadata": {},
   "outputs": [],
   "source": [
    "\"\"\"\n",
    "Exercise 14 - p. 159-160 Carat - beginning of line character.\n",
    "\"\"\"\n",
    "import re\n",
    "# match when Hello at beginning of string\n",
    "beginsWithHello = re.compile(r'^Hello')\n",
    "mo1 = beginsWithHello.search('Hello world!')\n",
    "print(mo1.group())\n",
    "\n",
    "# no match when Hello is not at the beginning\n",
    "mo2 = beginsWithHello.search('He said \"Hello\"')\n",
    "print(mo2 == None)"
   ]
  },
  {
   "cell_type": "code",
   "execution_count": null,
   "metadata": {},
   "outputs": [],
   "source": [
    ""
   ]
  },
  {
   "cell_type": "code",
   "execution_count": null,
   "metadata": {},
   "outputs": [],
   "source": [
    "\"\"\"\n",
    "Exercise 15 - p. 160 - Dollar Sign - End of line character.\n",
    "\"\"\"\n",
    "import re\n",
    "endsWithNumber = re.compile(r'\\d$')\n",
    "mo1 = endsWithNumber.search('Your number is 42')\n",
    "print(mo1.group())\n",
    "mo2 = endsWithNumber.search('Your number is forty two')\n",
    "print(mo2 == None)"
   ]
  },
  {
   "cell_type": "code",
   "execution_count": null,
   "metadata": {},
   "outputs": [],
   "source": [
    ""
   ]
  },
  {
   "cell_type": "code",
   "execution_count": null,
   "metadata": {},
   "outputs": [],
   "source": [
    "\"\"\"\n",
    "Exercise 16 - p. 160 - Match whole string.\n",
    "\"\"\"\n",
    "import re\n",
    "wholeStringIsNum = re.compile(r'^\\d+$')\n",
    "mo1 = wholeStringIsNum.search('1234567890')\n",
    "print(mo1.group())\n",
    "mo2 = wholeStringIsNum.search('12345xyz67890')\n",
    "print(mo2 == None)\n",
    "mo3 = wholeStringIsNum.search('12345  67890')\n",
    "print(mo3 == None)"
   ]
  },
  {
   "cell_type": "code",
   "execution_count": null,
   "metadata": {},
   "outputs": [],
   "source": [
    ""
   ]
  },
  {
   "cell_type": "code",
   "execution_count": null,
   "metadata": {},
   "outputs": [],
   "source": [
    "\"\"\"\n",
    "Exercise 17 - p. 160-161 - Period - Wildcard character.\n",
    "\"\"\"\n",
    "import re\n",
    "atRegex = re.compile(r'.at')\n",
    "mo = atRegex.findall('The cat in the hat sat flat on the mat.')\n",
    "print(mo)"
   ]
  },
  {
   "cell_type": "code",
   "execution_count": null,
   "metadata": {},
   "outputs": [],
   "source": [
    ""
   ]
  },
  {
   "cell_type": "code",
   "execution_count": null,
   "metadata": {},
   "outputs": [],
   "source": [
    "\"\"\"\n",
    "Exercise 18 - p. 161 - Match everything with dot star.\n",
    "\"\"\"\n",
    "import re\n",
    "nameRegex = re.compile(r'First Name: (.*) Last Name: (.*)')\n",
    "mo = nameRegex.search('First Name: Travis Last Name: Risner')\n",
    "print(mo.group(1))\n",
    "print(mo.group(2))"
   ]
  },
  {
   "cell_type": "code",
   "execution_count": null,
   "metadata": {},
   "outputs": [],
   "source": [
    ""
   ]
  },
  {
   "cell_type": "code",
   "execution_count": null,
   "metadata": {},
   "outputs": [],
   "source": [
    "\"\"\"\n",
    "Exercise 19 - p. 161 - Greedy vs. nongreedy matching.\n",
    ":return:\n",
    "\"\"\"\n",
    "import re\n",
    "phrase = '<To serve man> for dinner.>'\n",
    "\n",
    "# Greedy match\n",
    "greedyRegex = re.compile(r'<.*>')\n",
    "mo1 = greedyRegex.search(phrase)\n",
    "print(mo1.group())\n",
    "\n",
    "# Nongreedy match\n",
    "nongreedyRegex = re.compile(r'<.*?>')\n",
    "mo2 = nongreedyRegex.search(phrase)\n",
    "print(mo2.group())"
   ]
  },
  {
   "cell_type": "code",
   "execution_count": null,
   "metadata": {},
   "outputs": [],
   "source": [
    ""
   ]
  },
  {
   "cell_type": "code",
   "execution_count": null,
   "metadata": {},
   "outputs": [],
   "source": [
    "\"\"\"\n",
    "Exercise 20 - p. 164 - Verbose mode for complex regexes.\n",
    ":return:\n",
    "\"\"\"\n",
    "import re\n",
    "phrase = '123-4567 or 123.456.7890 or (999) 456-7890 or ' \\\n",
    "         '(987)654-3210 or 888 456 7890 ext 12345'\n",
    "nonVerboseRegex = re.compile(r'((\\d{3}|\\(\\d{3}\\))?(\\s|-|\\.)?\\d{3}'\n",
    "                             r'(\\s|-|\\.)\\d{4}(\\s*(ext|x|ext.)'\n",
    "                             r'\\s*\\d{2,5})?)')\n",
    "mo1 = nonVerboseRegex.findall(phrase)\n",
    "print(mo1)\n",
    "verboseRegex = re.compile(r'''\n",
    "    (              # start group to capture the phone number\n",
    "     (             #  start of optional area code choices\n",
    "      \\d{3}        #   bare three digits\n",
    "      |            #   or\n",
    "      \\(           #   literal left parenthesis\n",
    "      \\d{3}        #   three digit area code surrounded by parenthesis\n",
    "      \\)           #   literal right parenthesis\n",
    "     )?            #  end of optional area code choices\n",
    "     (             #  start of optional separator\n",
    "      \\s|-|\\.      #   separator can be whitespace, dash or period\n",
    "     )?            #  end of optional separator\n",
    "     \\d{3}         #  exchange number (required)\n",
    "     (\\s|-|\\.)     #  same separator but required this time\n",
    "     \\d{4}         #  final digits (required)\n",
    "     (             #  start of optional extension\n",
    "      \\s*          #   zero or more characters of white space\n",
    "      (            #   start of extention indicator\n",
    "       ext|x|ext.  #    extention can be indicated by \"ext\", \"x\", or\n",
    "                   #      \"ext\" followed by any character\n",
    "      )            #   end of extension indicator\n",
    "      \\s*          #   zero or more characters of white space\n",
    "      \\d{2,5}      #   two to five digits of extension number\n",
    "     )?            #  end of optional estension\n",
    "    )              # end phone number capture group\n",
    "    ''', re.VERBOSE)\n",
    "mo2 = verboseRegex.findall(phrase)\n",
    "print(mo2)"
   ]
  },
  {
   "cell_type": "code",
   "execution_count": null,
   "metadata": {},
   "outputs": [],
   "source": [
    ""
   ]
  }
 ],
 "metadata": {
  "kernelspec": {
   "display_name": "Python 3",
   "language": "python",
   "name": "python3"
  },
  "language_info": {
   "codemirror_mode": {
    "name": "ipython",
    "version": 3.0
   },
   "file_extension": ".py",
   "mimetype": "text/x-python",
   "name": "python",
   "nbconvert_exporter": "python",
   "pygments_lexer": "ipython3",
   "version": "3.5.1"
  }
 },
 "nbformat": 4,
 "nbformat_minor": 0
}
